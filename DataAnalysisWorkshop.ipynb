{
  "nbformat": 4,
  "nbformat_minor": 0,
  "metadata": {
    "colab": {
      "name": "mcgilhackathon.ipynb",
      "provenance": [],
      "collapsed_sections": [],
      "toc_visible": true,
      "machine_shape": "hm"
    },
    "kernelspec": {
      "name": "python3",
      "display_name": "Python 3"
    }
  },
  "cells": [
    {
      "cell_type": "markdown",
      "metadata": {
        "id": "h5LinwbLyVP1",
        "colab_type": "text"
      },
      "source": [
        "# Code-tober 2019: Introduction to Data Analysis With Python\n",
        "## Climate Change: Earth Surface Temperature Data\n",
        "## Tuesday, October 15\n",
        "### Tawfiq Jawhar \n"
      ]
    },
    {
      "cell_type": "code",
      "metadata": {
        "id": "5Tj6v8xwTpvd",
        "colab_type": "code",
        "colab": {}
      },
      "source": [
        "##importing some libraries that we can use\n",
        "%matplotlib inline\n",
        "import pandas as pd\n",
        "import numpy as np\n",
        "import matplotlib.pyplot as plt\n",
        "import seaborn as sns"
      ],
      "execution_count": 0,
      "outputs": []
    },
    {
      "cell_type": "markdown",
      "metadata": {
        "id": "2FbwMXqU6YIV",
        "colab_type": "text"
      },
      "source": [
        "## Dataset\n",
        "The dataset we are using is from Kaggle which can be found [here](https://www.kaggle.com/berkeleyearth/climate-change-earth-surface-temperature-data).\n",
        "\n",
        "We are only using one file from the dataset which is the global temperature per country. \n",
        "\n",
        "We will import the file and start exploring."
      ]
    },
    {
      "cell_type": "markdown",
      "metadata": {
        "id": "310gbwzy4yJ1",
        "colab_type": "text"
      },
      "source": [
        "## Importing the Data\n",
        "We are going to use the UI of colab to upload our csv file. On the left we can use the panel to upload the file. The file will be uploaded to the local VM we are using and after the session is terminated the file will be lost. \n",
        "\n",
        "So, we need to upload it every time we want to run this. But this is an easy way to upload files to be used with colab. You can mount your google drive and access the files in google drive, but you will have to give access to all your google drive files. \n",
        "\n",
        "After uploading the file, you can right click on it and copy the path of that file. We will use the path to open the file using Pandas library.\n"
      ]
    },
    {
      "cell_type": "code",
      "metadata": {
        "id": "XDBxtRIvT2C6",
        "colab_type": "code",
        "colab": {}
      },
      "source": [
        "filePath = '/content/GlobalLandTemperaturesByCountry.csv'\n",
        "##  reading the global temperature by country file and specifying \n",
        "##  the dt column to be date \n",
        "##  which will change the type of that column from normal strings\n",
        "##  to datetime type in pandas\n",
        "##  it will allow us to filter based on time much easier than dealing with strings\n",
        "\n",
        "GTbyCountry = pd.read_csv(filePath, parse_dates=['dt'])"
      ],
      "execution_count": 0,
      "outputs": []
    },
    {
      "cell_type": "markdown",
      "metadata": {
        "id": "a_zNTjN-7AmJ",
        "colab_type": "text"
      },
      "source": [
        "## Looking at The File\n",
        "We now have a Pandas dataframe called `GTbyCountry` which has the data of our csv file.\n",
        "\n",
        "We will use method `head()` to look at the top rows in the file and understand how many coloumns the file has and what kind of data we have."
      ]
    },
    {
      "cell_type": "code",
      "metadata": {
        "id": "1hOP58r9T2E0",
        "colab_type": "code",
        "outputId": "69180dee-c741-4c62-f50e-b2dd5fdf825a",
        "colab": {
          "base_uri": "https://localhost:8080/",
          "height": 204
        }
      },
      "source": [
        "GTbyCountry.head() #default will show us 5 top rows. \n",
        "##  We can also call .head(n) where n is the nunber of top rows we want to see"
      ],
      "execution_count": 3,
      "outputs": [
        {
          "output_type": "execute_result",
          "data": {
            "text/html": [
              "<div>\n",
              "<style scoped>\n",
              "    .dataframe tbody tr th:only-of-type {\n",
              "        vertical-align: middle;\n",
              "    }\n",
              "\n",
              "    .dataframe tbody tr th {\n",
              "        vertical-align: top;\n",
              "    }\n",
              "\n",
              "    .dataframe thead th {\n",
              "        text-align: right;\n",
              "    }\n",
              "</style>\n",
              "<table border=\"1\" class=\"dataframe\">\n",
              "  <thead>\n",
              "    <tr style=\"text-align: right;\">\n",
              "      <th></th>\n",
              "      <th>dt</th>\n",
              "      <th>AverageTemperature</th>\n",
              "      <th>AverageTemperatureUncertainty</th>\n",
              "      <th>Country</th>\n",
              "    </tr>\n",
              "  </thead>\n",
              "  <tbody>\n",
              "    <tr>\n",
              "      <th>0</th>\n",
              "      <td>1743-11-01</td>\n",
              "      <td>4.384</td>\n",
              "      <td>2.294</td>\n",
              "      <td>Åland</td>\n",
              "    </tr>\n",
              "    <tr>\n",
              "      <th>1</th>\n",
              "      <td>1743-12-01</td>\n",
              "      <td>NaN</td>\n",
              "      <td>NaN</td>\n",
              "      <td>Åland</td>\n",
              "    </tr>\n",
              "    <tr>\n",
              "      <th>2</th>\n",
              "      <td>1744-01-01</td>\n",
              "      <td>NaN</td>\n",
              "      <td>NaN</td>\n",
              "      <td>Åland</td>\n",
              "    </tr>\n",
              "    <tr>\n",
              "      <th>3</th>\n",
              "      <td>1744-02-01</td>\n",
              "      <td>NaN</td>\n",
              "      <td>NaN</td>\n",
              "      <td>Åland</td>\n",
              "    </tr>\n",
              "    <tr>\n",
              "      <th>4</th>\n",
              "      <td>1744-03-01</td>\n",
              "      <td>NaN</td>\n",
              "      <td>NaN</td>\n",
              "      <td>Åland</td>\n",
              "    </tr>\n",
              "  </tbody>\n",
              "</table>\n",
              "</div>"
            ],
            "text/plain": [
              "          dt  AverageTemperature  AverageTemperatureUncertainty Country\n",
              "0 1743-11-01               4.384                          2.294   Åland\n",
              "1 1743-12-01                 NaN                            NaN   Åland\n",
              "2 1744-01-01                 NaN                            NaN   Åland\n",
              "3 1744-02-01                 NaN                            NaN   Åland\n",
              "4 1744-03-01                 NaN                            NaN   Åland"
            ]
          },
          "metadata": {
            "tags": []
          },
          "execution_count": 3
        }
      ]
    },
    {
      "cell_type": "markdown",
      "metadata": {
        "id": "p6GLStiK7ypu",
        "colab_type": "text"
      },
      "source": [
        "We have 4 columns inside the file. dt, AverageTemperature, AverageTemperatureUncertainty, and Country.\n",
        "We can immediatly notice that we have NaN values. So the data we have is missing values. \n",
        "\n",
        "We want the type of dt to be pandas datetime type and not a string. That way we can use the datetime functionalities to filter per year, month and day without the need to parse the string ourselves. \n",
        "\n",
        "We will first check the type of the column dt. Sometimes the date format is autodetected when we read the file.\n",
        "\n"
      ]
    },
    {
      "cell_type": "code",
      "metadata": {
        "id": "zYRuvHVMDcLx",
        "colab_type": "code",
        "outputId": "e3e4819b-a950-4bea-e355-d4aa2a670131",
        "colab": {
          "base_uri": "https://localhost:8080/",
          "height": 102
        }
      },
      "source": [
        "GTbyCountry.dtypes"
      ],
      "execution_count": 4,
      "outputs": [
        {
          "output_type": "execute_result",
          "data": {
            "text/plain": [
              "dt                               datetime64[ns]\n",
              "AverageTemperature                      float64\n",
              "AverageTemperatureUncertainty           float64\n",
              "Country                                  object\n",
              "dtype: object"
            ]
          },
          "metadata": {
            "tags": []
          },
          "execution_count": 4
        }
      ]
    },
    {
      "cell_type": "markdown",
      "metadata": {
        "id": "72hq6lVdMRpe",
        "colab_type": "text"
      },
      "source": [
        "Great! `dt` is already of type `datetime` which is what we want. \n",
        "If `dt` is not of type `datetime` then we can convert it like this:\n",
        "\n",
        "```GTbyCountry.dt = pd.to_datetime(GTbyCountry.dt)```\n",
        "\n",
        "We use the function `to_datetime` which is part of pandas library and we pass to it the column that we want to convert which is `dt`. And we assign the return to the column we want in our dataframe. Which is `dt`. \n",
        "\n",
        "\n",
        "**Note**: we can access a column in a dataframe by doing `GTbyCountry.dt` or by doing `GTbyCountry['dt']`.\n",
        "\n",
        "I like to use the first method because the name will be suggested in the autocomplete instead of typing the full name of the column in the array like way.\n"
      ]
    },
    {
      "cell_type": "code",
      "metadata": {
        "id": "J7fc0OfvO-mR",
        "colab_type": "code",
        "colab": {}
      },
      "source": [
        "#GTbyCountry.dt = pd.to_datetime(GTbyCountry.dt)"
      ],
      "execution_count": 0,
      "outputs": []
    },
    {
      "cell_type": "markdown",
      "metadata": {
        "id": "snZUMctAOVmT",
        "colab_type": "text"
      },
      "source": [
        "## How many NaNs do we have?\n",
        "\n",
        "We will use a method `isna()` which will return a dataframe of the same size of `GTbyCountry` with only True or False values. True for when a value is NaN and False when the value is not NaN."
      ]
    },
    {
      "cell_type": "code",
      "metadata": {
        "id": "4fwDzOAoqE5v",
        "colab_type": "code",
        "outputId": "b98addf6-16ed-404a-8806-c555b6711d68",
        "colab": {
          "base_uri": "https://localhost:8080/",
          "height": 204
        }
      },
      "source": [
        "GTbyCountry.isna().head()"
      ],
      "execution_count": 6,
      "outputs": [
        {
          "output_type": "execute_result",
          "data": {
            "text/html": [
              "<div>\n",
              "<style scoped>\n",
              "    .dataframe tbody tr th:only-of-type {\n",
              "        vertical-align: middle;\n",
              "    }\n",
              "\n",
              "    .dataframe tbody tr th {\n",
              "        vertical-align: top;\n",
              "    }\n",
              "\n",
              "    .dataframe thead th {\n",
              "        text-align: right;\n",
              "    }\n",
              "</style>\n",
              "<table border=\"1\" class=\"dataframe\">\n",
              "  <thead>\n",
              "    <tr style=\"text-align: right;\">\n",
              "      <th></th>\n",
              "      <th>dt</th>\n",
              "      <th>AverageTemperature</th>\n",
              "      <th>AverageTemperatureUncertainty</th>\n",
              "      <th>Country</th>\n",
              "    </tr>\n",
              "  </thead>\n",
              "  <tbody>\n",
              "    <tr>\n",
              "      <th>0</th>\n",
              "      <td>False</td>\n",
              "      <td>False</td>\n",
              "      <td>False</td>\n",
              "      <td>False</td>\n",
              "    </tr>\n",
              "    <tr>\n",
              "      <th>1</th>\n",
              "      <td>False</td>\n",
              "      <td>True</td>\n",
              "      <td>True</td>\n",
              "      <td>False</td>\n",
              "    </tr>\n",
              "    <tr>\n",
              "      <th>2</th>\n",
              "      <td>False</td>\n",
              "      <td>True</td>\n",
              "      <td>True</td>\n",
              "      <td>False</td>\n",
              "    </tr>\n",
              "    <tr>\n",
              "      <th>3</th>\n",
              "      <td>False</td>\n",
              "      <td>True</td>\n",
              "      <td>True</td>\n",
              "      <td>False</td>\n",
              "    </tr>\n",
              "    <tr>\n",
              "      <th>4</th>\n",
              "      <td>False</td>\n",
              "      <td>True</td>\n",
              "      <td>True</td>\n",
              "      <td>False</td>\n",
              "    </tr>\n",
              "  </tbody>\n",
              "</table>\n",
              "</div>"
            ],
            "text/plain": [
              "      dt  AverageTemperature  AverageTemperatureUncertainty  Country\n",
              "0  False               False                          False    False\n",
              "1  False                True                           True    False\n",
              "2  False                True                           True    False\n",
              "3  False                True                           True    False\n",
              "4  False                True                           True    False"
            ]
          },
          "metadata": {
            "tags": []
          },
          "execution_count": 6
        }
      ]
    },
    {
      "cell_type": "markdown",
      "metadata": {
        "id": "ylVP0Mxu8olV",
        "colab_type": "text"
      },
      "source": [
        "To know how many NaN values we have, we will sum the values of the columns. Because it is Boolean data (True/False) the sum will count the Trues. Which is counting how many NaNs we have."
      ]
    },
    {
      "cell_type": "code",
      "metadata": {
        "id": "LorFUNHz88Cq",
        "colab_type": "code",
        "outputId": "03afdef4-8862-48f6-f5ac-bf108001a254",
        "colab": {
          "base_uri": "https://localhost:8080/",
          "height": 102
        }
      },
      "source": [
        "GTbyCountry.isna().sum()"
      ],
      "execution_count": 7,
      "outputs": [
        {
          "output_type": "execute_result",
          "data": {
            "text/plain": [
              "dt                                   0\n",
              "AverageTemperature               32651\n",
              "AverageTemperatureUncertainty    31912\n",
              "Country                              0\n",
              "dtype: int64"
            ]
          },
          "metadata": {
            "tags": []
          },
          "execution_count": 7
        }
      ]
    },
    {
      "cell_type": "markdown",
      "metadata": {
        "id": "PcsxHr1K9foc",
        "colab_type": "text"
      },
      "source": [
        "Notice how we call a method after a method \n",
        "\n",
        "```.isna().sum()``` \n",
        "\n",
        "in Python we can call a method (function) to the return of the previous method so after isna() is called, it will return the dataframe we saw above then sum() (which is a method of pandas dataframe objects) will be called on that returned dataframe. \n",
        "\n",
        "Also, almost every method in pandas will return a new dataframe. So the datframe we call the method on; for example `GTbyCountry.isna().sum()`, will not affect `GTbyCountry`. If we want to save the new dataframe we can give it a variable name and assign the return to it\n",
        "\n",
        "`GTisNanSum = GTbyCountry.isna().sum()`\n",
        "\n",
        "We also don't need to `print` the values to see them in a notebook, because by returning them at the end of the code block, the returned object will be printed. "
      ]
    },
    {
      "cell_type": "markdown",
      "metadata": {
        "id": "LG1ioXcnPlvY",
        "colab_type": "text"
      },
      "source": [
        "## What do we do about missing Data?\n",
        "\n",
        "**For this workshop and for simplicity we will do nothing.**  We will process the data starting from year 1990 which all the data is available after that date. (we will see below). \n",
        "\n",
        "However, what can we do about missing values?\n",
        "Or the real question is: what values can we replace the NaN values in our data. \n",
        "\n",
        "There isn't a perfect answer to this question. It will always depend. And whatever decision we make will have consequences of course. \n"
      ]
    },
    {
      "cell_type": "markdown",
      "metadata": {
        "id": "qtor1_XmtDNP",
        "colab_type": "text"
      },
      "source": [
        "### We can try doing this:\n",
        "Find the average temperature for all the countries at each datetime and then replace the missing values at that datetime with the average over all the countries. \n",
        "\n",
        "However, this will probably be very inaccurate. Average over all the countries at a specific date is not a good measure to fill the missing value for a specific country. "
      ]
    },
    {
      "cell_type": "markdown",
      "metadata": {
        "id": "8vY1DunXtFbx",
        "colab_type": "text"
      },
      "source": [
        "\n",
        "### What I would probably do: \n",
        "Replacing the missing values with the average of temperature at that datetime over all the countries can have problems. Especially in the very early years where countries were still underdeveloped. \n",
        "\n",
        "Say we are missing a value for Country X at timedate D\n",
        "Can we find countries that are similar to country X and then use the average of those countries at timedate D to replace the missing value?\n",
        "\n",
        "We can use clustering analysis. We cluster the countries based on their temperatures to find groups of countries that are similar. And then we can replace the missing values with the average of similar countries. \n",
        "\n",
        "Would that be a perfect solution?\n",
        "Definetly not! maybe a good one. We can't know unless we do it and we analyze the result. "
      ]
    },
    {
      "cell_type": "markdown",
      "metadata": {
        "id": "eA0yIhIVRTid",
        "colab_type": "text"
      },
      "source": [
        "## Filter the data to select the temperature starting from 1990 and in United States\n",
        "\n",
        "We will do some analysis on the earth surface temperature of the United States from 1990.\n",
        "\n",
        "To do that we need to select from the dataframe that we have all the rows that satisfy the conditions we want. \n",
        "\n",
        "We will use a masking method. \n",
        "A mask in this case would be a dataframe with the same size of `GTbyCountry` but with only boolean values (True or False). True if the conditions we want is valid and False if it is not. \n",
        "\n",
        "Then we will use this mask to select which rows we want from the original dataframe `GTbyCountry`."
      ]
    },
    {
      "cell_type": "code",
      "metadata": {
        "id": "HZGxhG0LqE-f",
        "colab_type": "code",
        "colab": {}
      },
      "source": [
        "##  variable to store start date\n",
        "##  it is a good practice to create variables for parameters that we might\n",
        "##  want to change afterwards\n",
        "start_date = '01-01-1900'"
      ],
      "execution_count": 0,
      "outputs": []
    },
    {
      "cell_type": "markdown",
      "metadata": {
        "id": "ktB_zkanhSA0",
        "colab_type": "text"
      },
      "source": [
        "We will simply apply a logic condition on each column we want to filter a condition on. Using Pandas dataframe we can use operators like > < == to apply the condition on the full column. The return will be a full column as well with values True or False.\n",
        "\n",
        "If we want multiple conditions, we can get a boolean array for each condition seperately and combine them with AND because we want all of them to be satisfied. \n",
        "If we want to have any of the conditions satisfied and not necessarily all, then we can use OR.\n",
        "\n",
        "In this case the first condition is that date is after or equal to the start date. \n",
        "Which can be represented as:\n",
        "\n",
        "`GTbyCountry['dt'] >= start_date`\n",
        "\n",
        "This will return a column with True value for each row in `GTbyCountry` that the date is greater or equal to the `start_date` and false otherwise.\n",
        "\n",
        "The second condition is that the Country is United States. So we will filter the Country column to get True for the rows that have United States as value.\n",
        "\n",
        "`GTbyCountry['Country'] == 'United States'`\n",
        "\n",
        "Now we have two columns with True and False values that each represent the rows that satisfy our conditions. We want to join both by using `&` to both columns and that will give us one column with True or False that represent both our conditions. \n",
        "\n",
        "We will store this array in a variable `mask`.\n"
      ]
    },
    {
      "cell_type": "code",
      "metadata": {
        "id": "6pih3-vsqE8I",
        "colab_type": "code",
        "colab": {}
      },
      "source": [
        "mask = (GTbyCountry['dt'] >= start_date)  & (GTbyCountry['Country'] == 'United States')"
      ],
      "execution_count": 0,
      "outputs": []
    },
    {
      "cell_type": "markdown",
      "metadata": {
        "id": "dpuobejHjkHA",
        "colab_type": "text"
      },
      "source": [
        "Now we will use this mask column to filter the data we have. We will use a method `.loc[boolean_array]` which will remove the rows from the data that are False in the boolean_array and leave the ones that are True.\n",
        "\n",
        "We will also store the returned dataframe with the new filtered data in `GTUS`."
      ]
    },
    {
      "cell_type": "code",
      "metadata": {
        "id": "v93BYrUTqFBe",
        "colab_type": "code",
        "colab": {}
      },
      "source": [
        "GTUS = GTbyCountry.loc[mask]\n"
      ],
      "execution_count": 0,
      "outputs": []
    },
    {
      "cell_type": "markdown",
      "metadata": {
        "id": "fG0RUkvpkQYV",
        "colab_type": "text"
      },
      "source": [
        "We will use a method `.count()` on both dataframes; the full data and the US data. Just to observe the number of records we have. "
      ]
    },
    {
      "cell_type": "code",
      "metadata": {
        "id": "GVU97wJxsbzJ",
        "colab_type": "code",
        "outputId": "b3e264b4-9e70-4c6d-f0fc-8a4c5b463aa5",
        "colab": {
          "base_uri": "https://localhost:8080/",
          "height": 102
        }
      },
      "source": [
        "GTbyCountry.count()"
      ],
      "execution_count": 11,
      "outputs": [
        {
          "output_type": "execute_result",
          "data": {
            "text/plain": [
              "dt                               577462\n",
              "AverageTemperature               544811\n",
              "AverageTemperatureUncertainty    545550\n",
              "Country                          577462\n",
              "dtype: int64"
            ]
          },
          "metadata": {
            "tags": []
          },
          "execution_count": 11
        }
      ]
    },
    {
      "cell_type": "code",
      "metadata": {
        "id": "DblRTVHcsU9v",
        "colab_type": "code",
        "outputId": "5559b235-0419-41d3-e093-6508a2208916",
        "colab": {
          "base_uri": "https://localhost:8080/",
          "height": 102
        }
      },
      "source": [
        "GTUS.count()"
      ],
      "execution_count": 12,
      "outputs": [
        {
          "output_type": "execute_result",
          "data": {
            "text/plain": [
              "dt                               1365\n",
              "AverageTemperature               1365\n",
              "AverageTemperatureUncertainty    1365\n",
              "Country                          1365\n",
              "dtype: int64"
            ]
          },
          "metadata": {
            "tags": []
          },
          "execution_count": 12
        }
      ]
    },
    {
      "cell_type": "markdown",
      "metadata": {
        "id": "1B4YWf2vkeAW",
        "colab_type": "text"
      },
      "source": [
        "We can check whether we have any NaN values in the new filtered data similar to how we checked for NaN before."
      ]
    },
    {
      "cell_type": "code",
      "metadata": {
        "id": "Vm5xK-z5w9YN",
        "colab_type": "code",
        "outputId": "335b9a72-89b2-44be-c2ca-0c2bbc134299",
        "colab": {
          "base_uri": "https://localhost:8080/",
          "height": 102
        }
      },
      "source": [
        "GTUS.isna().sum()"
      ],
      "execution_count": 13,
      "outputs": [
        {
          "output_type": "execute_result",
          "data": {
            "text/plain": [
              "dt                               0\n",
              "AverageTemperature               0\n",
              "AverageTemperatureUncertainty    0\n",
              "Country                          0\n",
              "dtype: int64"
            ]
          },
          "metadata": {
            "tags": []
          },
          "execution_count": 13
        }
      ]
    },
    {
      "cell_type": "code",
      "metadata": {
        "id": "OAdXvkq4OsVl",
        "colab_type": "code",
        "colab": {
          "base_uri": "https://localhost:8080/",
          "height": 204
        },
        "outputId": "dc7f2673-f421-4455-ac2f-1100a6c563c7"
      },
      "source": [
        "GTUS.head()"
      ],
      "execution_count": 14,
      "outputs": [
        {
          "output_type": "execute_result",
          "data": {
            "text/html": [
              "<div>\n",
              "<style scoped>\n",
              "    .dataframe tbody tr th:only-of-type {\n",
              "        vertical-align: middle;\n",
              "    }\n",
              "\n",
              "    .dataframe tbody tr th {\n",
              "        vertical-align: top;\n",
              "    }\n",
              "\n",
              "    .dataframe thead th {\n",
              "        text-align: right;\n",
              "    }\n",
              "</style>\n",
              "<table border=\"1\" class=\"dataframe\">\n",
              "  <thead>\n",
              "    <tr style=\"text-align: right;\">\n",
              "      <th></th>\n",
              "      <th>dt</th>\n",
              "      <th>AverageTemperature</th>\n",
              "      <th>AverageTemperatureUncertainty</th>\n",
              "      <th>Country</th>\n",
              "    </tr>\n",
              "  </thead>\n",
              "  <tbody>\n",
              "    <tr>\n",
              "      <th>556456</th>\n",
              "      <td>1900-01-01</td>\n",
              "      <td>-2.573</td>\n",
              "      <td>0.443</td>\n",
              "      <td>United States</td>\n",
              "    </tr>\n",
              "    <tr>\n",
              "      <th>556457</th>\n",
              "      <td>1900-02-01</td>\n",
              "      <td>-2.912</td>\n",
              "      <td>0.533</td>\n",
              "      <td>United States</td>\n",
              "    </tr>\n",
              "    <tr>\n",
              "      <th>556458</th>\n",
              "      <td>1900-03-01</td>\n",
              "      <td>2.636</td>\n",
              "      <td>0.358</td>\n",
              "      <td>United States</td>\n",
              "    </tr>\n",
              "    <tr>\n",
              "      <th>556459</th>\n",
              "      <td>1900-04-01</td>\n",
              "      <td>8.091</td>\n",
              "      <td>0.263</td>\n",
              "      <td>United States</td>\n",
              "    </tr>\n",
              "    <tr>\n",
              "      <th>556460</th>\n",
              "      <td>1900-05-01</td>\n",
              "      <td>14.317</td>\n",
              "      <td>0.239</td>\n",
              "      <td>United States</td>\n",
              "    </tr>\n",
              "  </tbody>\n",
              "</table>\n",
              "</div>"
            ],
            "text/plain": [
              "               dt  ...        Country\n",
              "556456 1900-01-01  ...  United States\n",
              "556457 1900-02-01  ...  United States\n",
              "556458 1900-03-01  ...  United States\n",
              "556459 1900-04-01  ...  United States\n",
              "556460 1900-05-01  ...  United States\n",
              "\n",
              "[5 rows x 4 columns]"
            ]
          },
          "metadata": {
            "tags": []
          },
          "execution_count": 14
        }
      ]
    },
    {
      "cell_type": "markdown",
      "metadata": {
        "id": "NaxAlw30kupI",
        "colab_type": "text"
      },
      "source": [
        "Let's visualize our data. Pandas dataframes has a method plot which uses the matplotlib plot function. \n",
        "\n",
        "Which means we can use matplotlib functions to add things to the figure. "
      ]
    },
    {
      "cell_type": "code",
      "metadata": {
        "id": "iVJ-NaIbsU_J",
        "colab_type": "code",
        "outputId": "a0a54f20-57bc-4876-a64d-957f960c530d",
        "colab": {
          "base_uri": "https://localhost:8080/",
          "height": 261
        }
      },
      "source": [
        "##  plot the data with x being dt column and y the average temperature\n",
        "##  Specify the figure size because the default size will make things shrink too much\n",
        "GTUS.plot(x='dt', y='AverageTemperature', figsize=(15,3))\n",
        "##  add title to the figure and label for x and y\n",
        "plt.title('Average Surface Temperature from 1990 of United States')\n",
        "plt.xlabel('Year')\n",
        "plt.ylabel('Average Temperature Celsius')\n",
        "plt.show()"
      ],
      "execution_count": 15,
      "outputs": [
        {
          "output_type": "display_data",
          "data": {
            "image/png": "[encoded data removed]",
            "text/plain": [
              "<Figure size 1080x216 with 1 Axes>"
            ]
          },
          "metadata": {
            "tags": []
          }
        }
      ]
    },
    {
      "cell_type": "markdown",
      "metadata": {
        "id": "wSnudzfRn89-",
        "colab_type": "text"
      },
      "source": [
        "Nice figure! But we can't really tell if temperature is increasing with time. \n",
        "\n",
        "Maybe global warming is a myth after all!! \n",
        "\n",
        "let's dig deeper. \n",
        "\n",
        "First let's find the date for the highest temperature and the lowest. \n",
        "\n",
        "We will use max and min methods from pandas. "
      ]
    },
    {
      "cell_type": "code",
      "metadata": {
        "id": "8c4aCUEesVBC",
        "colab_type": "code",
        "outputId": "dface38e-2bf5-4730-d089-cf88492ea7f5",
        "colab": {
          "base_uri": "https://localhost:8080/",
          "height": 102
        }
      },
      "source": [
        "GTUS.max()"
      ],
      "execution_count": 16,
      "outputs": [
        {
          "output_type": "execute_result",
          "data": {
            "text/plain": [
              "dt                               2013-09-01 00:00:00\n",
              "AverageTemperature                            23.008\n",
              "AverageTemperatureUncertainty                   1.21\n",
              "Country                                United States\n",
              "dtype: object"
            ]
          },
          "metadata": {
            "tags": []
          },
          "execution_count": 16
        }
      ]
    },
    {
      "cell_type": "code",
      "metadata": {
        "id": "wMQs22nesVDX",
        "colab_type": "code",
        "outputId": "69d9d161-0c76-4749-9efe-24ef330e3332",
        "colab": {
          "base_uri": "https://localhost:8080/",
          "height": 102
        }
      },
      "source": [
        "GTUS.min()"
      ],
      "execution_count": 17,
      "outputs": [
        {
          "output_type": "execute_result",
          "data": {
            "text/plain": [
              "dt                               1900-01-01 00:00:00\n",
              "AverageTemperature                            -6.737\n",
              "AverageTemperatureUncertainty                  0.053\n",
              "Country                                United States\n",
              "dtype: object"
            ]
          },
          "metadata": {
            "tags": []
          },
          "execution_count": 17
        }
      ]
    },
    {
      "cell_type": "markdown",
      "metadata": {
        "id": "jkyyLUGDoc_G",
        "colab_type": "text"
      },
      "source": [
        "The highest average temperature was on 2013 and the lowest was on 1900.\n",
        "\n",
        "Let's visualize the data differently. We can look at the average per year, that way we can notice a movement over time better. \n",
        "\n",
        "To do so, we need to create a dataframe with each row representing one year only. So we need to combine all the records for a specific year into one record by calculating the average of those records.\n",
        "\n",
        "We will use a method from pandas dataframes `groupby`\n",
        "\n",
        "This method will group the data based on a category that we specify and a method that we specify to join the data of that category together. \n",
        "\n",
        "In our case, the category to `groupby` will be by years and the method to join the records will be the mean of the data. \n",
        "\n",
        "Our dt column is of time datetime. datetime has a member called `dt` (in our case our column is also called dt but it could have been called anything else). Inside `datetime.dt` we have other members like month, day and year. Which is why at the beginning we made sure we are using datetime type. \n",
        "\n",
        "To group by the year, we simply specify that we want the year from the `dt` column.\n",
        "\n",
        "Which can be accessed this way:\n",
        "\n",
        "`GTUS.dt.dt.year`\n",
        "\n",
        "the first dt is the column that holds the dates in our data and the second dt is datetime.dt which is the datetime type that has the other members (year). \n",
        "\n",
        "Then we will specify the function we want to be used on the grouped records which is `mean()`.\n",
        "\n",
        "At the end we are calling `reset_index()` because otherwise the grouped column will be used as an index. If we reset the index, we get a different index starting at 0 and the grouped column (which is years) will stay as a separate column in our data.\n",
        "\n"
      ]
    },
    {
      "cell_type": "code",
      "metadata": {
        "id": "GdXLObGZCd-B",
        "colab_type": "code",
        "colab": {}
      },
      "source": [
        "GTUSByYear = GTUS.groupby(GTUS.dt.dt.year).mean().reset_index()"
      ],
      "execution_count": 0,
      "outputs": []
    },
    {
      "cell_type": "markdown",
      "metadata": {
        "id": "txxa0IOTrbCk",
        "colab_type": "text"
      },
      "source": [
        "We can take a look at our new data and make sure we have the correct data grouped by the year."
      ]
    },
    {
      "cell_type": "code",
      "metadata": {
        "id": "McTnxMKErhEh",
        "colab_type": "code",
        "outputId": "96a49ddf-bd91-45f4-8cb8-126f46bd1ef1",
        "colab": {
          "base_uri": "https://localhost:8080/",
          "height": 359
        }
      },
      "source": [
        "GTUSByYear.head(10)"
      ],
      "execution_count": 19,
      "outputs": [
        {
          "output_type": "execute_result",
          "data": {
            "text/html": [
              "<div>\n",
              "<style scoped>\n",
              "    .dataframe tbody tr th:only-of-type {\n",
              "        vertical-align: middle;\n",
              "    }\n",
              "\n",
              "    .dataframe tbody tr th {\n",
              "        vertical-align: top;\n",
              "    }\n",
              "\n",
              "    .dataframe thead th {\n",
              "        text-align: right;\n",
              "    }\n",
              "</style>\n",
              "<table border=\"1\" class=\"dataframe\">\n",
              "  <thead>\n",
              "    <tr style=\"text-align: right;\">\n",
              "      <th></th>\n",
              "      <th>dt</th>\n",
              "      <th>AverageTemperature</th>\n",
              "      <th>AverageTemperatureUncertainty</th>\n",
              "    </tr>\n",
              "  </thead>\n",
              "  <tbody>\n",
              "    <tr>\n",
              "      <th>0</th>\n",
              "      <td>1900</td>\n",
              "      <td>9.021583</td>\n",
              "      <td>0.400583</td>\n",
              "    </tr>\n",
              "    <tr>\n",
              "      <th>1</th>\n",
              "      <td>1901</td>\n",
              "      <td>8.494917</td>\n",
              "      <td>0.403167</td>\n",
              "    </tr>\n",
              "    <tr>\n",
              "      <th>2</th>\n",
              "      <td>1902</td>\n",
              "      <td>8.454000</td>\n",
              "      <td>0.410500</td>\n",
              "    </tr>\n",
              "    <tr>\n",
              "      <th>3</th>\n",
              "      <td>1903</td>\n",
              "      <td>7.977250</td>\n",
              "      <td>0.419000</td>\n",
              "    </tr>\n",
              "    <tr>\n",
              "      <th>4</th>\n",
              "      <td>1904</td>\n",
              "      <td>8.200667</td>\n",
              "      <td>0.438667</td>\n",
              "    </tr>\n",
              "    <tr>\n",
              "      <th>5</th>\n",
              "      <td>1905</td>\n",
              "      <td>8.402333</td>\n",
              "      <td>0.367000</td>\n",
              "    </tr>\n",
              "    <tr>\n",
              "      <th>6</th>\n",
              "      <td>1906</td>\n",
              "      <td>8.560083</td>\n",
              "      <td>0.345333</td>\n",
              "    </tr>\n",
              "    <tr>\n",
              "      <th>7</th>\n",
              "      <td>1907</td>\n",
              "      <td>8.394000</td>\n",
              "      <td>0.322167</td>\n",
              "    </tr>\n",
              "    <tr>\n",
              "      <th>8</th>\n",
              "      <td>1908</td>\n",
              "      <td>8.755583</td>\n",
              "      <td>0.344750</td>\n",
              "    </tr>\n",
              "    <tr>\n",
              "      <th>9</th>\n",
              "      <td>1909</td>\n",
              "      <td>8.221833</td>\n",
              "      <td>0.281333</td>\n",
              "    </tr>\n",
              "  </tbody>\n",
              "</table>\n",
              "</div>"
            ],
            "text/plain": [
              "     dt  AverageTemperature  AverageTemperatureUncertainty\n",
              "0  1900            9.021583                       0.400583\n",
              "1  1901            8.494917                       0.403167\n",
              "2  1902            8.454000                       0.410500\n",
              "3  1903            7.977250                       0.419000\n",
              "4  1904            8.200667                       0.438667\n",
              "5  1905            8.402333                       0.367000\n",
              "6  1906            8.560083                       0.345333\n",
              "7  1907            8.394000                       0.322167\n",
              "8  1908            8.755583                       0.344750\n",
              "9  1909            8.221833                       0.281333"
            ]
          },
          "metadata": {
            "tags": []
          },
          "execution_count": 19
        }
      ]
    },
    {
      "cell_type": "markdown",
      "metadata": {
        "id": "sqRamcuHrnqy",
        "colab_type": "text"
      },
      "source": [
        "Now we have the average over the full year for the US temperature. Let's visualize the average temperature over the years.\n",
        "\n",
        "We will plot two plots. One scatter plot, and another line plot. They are both the same data points, it will just give us a different ways of looking at the data. "
      ]
    },
    {
      "cell_type": "code",
      "metadata": {
        "id": "vCjx9A4bsVFh",
        "colab_type": "code",
        "outputId": "329f4141-27eb-4733-a61c-f3219cf10b92",
        "colab": {
          "base_uri": "https://localhost:8080/",
          "height": 549
        }
      },
      "source": [
        "GTUSByYear.plot.scatter(x='dt', y='AverageTemperature')\n",
        "GTUSByYear.plot(x='dt', y='AverageTemperature')\n",
        "plt.show()"
      ],
      "execution_count": 20,
      "outputs": [
        {
          "output_type": "display_data",
          "data": {
            "image/png": "[encoded data removed]",
            "text/plain": [
              "<Figure size 432x288 with 1 Axes>"
            ]
          },
          "metadata": {
            "tags": []
          }
        },
        {
          "output_type": "display_data",
          "data": {
            "image/png": "[encoded data removed]",
            "text/plain": [
              "<Figure size 432x288 with 1 Axes>"
            ]
          },
          "metadata": {
            "tags": []
          }
        }
      ]
    },
    {
      "cell_type": "markdown",
      "metadata": {
        "id": "nNlLa4W1sMV2",
        "colab_type": "text"
      },
      "source": [
        "We do notice an upward movement in the temperature over the years. \n",
        "Does this mean we proved that global warming exist? \n",
        "\n",
        "Absolutely not. But we started collecting evidence maybe. \n",
        "If we apply the same method to every other country and to every city (the full dataset on Kaggle has a csv file for cities) and they all showed an consistant movement upwards, then our evidence will become stronger and stronger as we go. "
      ]
    },
    {
      "cell_type": "markdown",
      "metadata": {
        "id": "jm9E1nKJs0ha",
        "colab_type": "text"
      },
      "source": [
        "## Exercise 1: Repeat the same analysis for Canada and analyze the result"
      ]
    },
    {
      "cell_type": "code",
      "metadata": {
        "id": "6bbbrlPVtW4B",
        "colab_type": "code",
        "colab": {}
      },
      "source": [
        ""
      ],
      "execution_count": 0,
      "outputs": []
    },
    {
      "cell_type": "code",
      "metadata": {
        "id": "Tiw9QumGtXWH",
        "colab_type": "code",
        "colab": {}
      },
      "source": [
        ""
      ],
      "execution_count": 0,
      "outputs": []
    },
    {
      "cell_type": "code",
      "metadata": {
        "id": "ILH5SQ9PtXYp",
        "colab_type": "code",
        "colab": {}
      },
      "source": [
        ""
      ],
      "execution_count": 0,
      "outputs": []
    },
    {
      "cell_type": "markdown",
      "metadata": {
        "id": "H_Mmi7u-tXlr",
        "colab_type": "text"
      },
      "source": [
        "## Exercise 2: What country has the highest yearly average temperature in 2010"
      ]
    },
    {
      "cell_type": "code",
      "metadata": {
        "id": "ejVieC0Ktkju",
        "colab_type": "code",
        "colab": {}
      },
      "source": [
        ""
      ],
      "execution_count": 0,
      "outputs": []
    },
    {
      "cell_type": "code",
      "metadata": {
        "id": "OczzAQVjtknI",
        "colab_type": "code",
        "colab": {}
      },
      "source": [
        ""
      ],
      "execution_count": 0,
      "outputs": []
    },
    {
      "cell_type": "markdown",
      "metadata": {
        "id": "3ExCEC3UtlTr",
        "colab_type": "text"
      },
      "source": [
        "## Exercise 3: Between which two years Canada had the highest yearly average temperature jump (increase or decrease in average temperature the most) "
      ]
    },
    {
      "cell_type": "code",
      "metadata": {
        "id": "z7Y6pEkBuByU",
        "colab_type": "code",
        "colab": {}
      },
      "source": [
        ""
      ],
      "execution_count": 0,
      "outputs": []
    },
    {
      "cell_type": "code",
      "metadata": {
        "id": "D0rrqdzhuB1I",
        "colab_type": "code",
        "colab": {}
      },
      "source": [
        ""
      ],
      "execution_count": 0,
      "outputs": []
    },
    {
      "cell_type": "markdown",
      "metadata": {
        "id": "yVEkMjBfPoWQ",
        "colab_type": "text"
      },
      "source": [
        "## Exercise 4: Define a question you want to investigate/answer from this data. Do the analysis and get the answer. You can discuss with us your ideas and approaches to how you are going to do the analysis.  "
      ]
    },
    {
      "cell_type": "code",
      "metadata": {
        "id": "62YwLe1rP_sf",
        "colab_type": "code",
        "colab": {}
      },
      "source": [
        ""
      ],
      "execution_count": 0,
      "outputs": []
    },
    {
      "cell_type": "code",
      "metadata": {
        "id": "s6n42KDkP_vk",
        "colab_type": "code",
        "colab": {}
      },
      "source": [
        ""
      ],
      "execution_count": 0,
      "outputs": []
    }
  ]
}